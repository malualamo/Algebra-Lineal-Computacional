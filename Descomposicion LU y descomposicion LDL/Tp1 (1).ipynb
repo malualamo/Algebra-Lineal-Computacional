{
 "cells": [
  {
   "cell_type": "code",
   "execution_count": 117,
   "metadata": {},
   "outputs": [],
   "source": [
    "import numpy as np"
   ]
  },
  {
   "cell_type": "markdown",
   "metadata": {},
   "source": [
    "Integrantes: Jeremias Laria(1329/21) y Malena Alamo(1620/21)"
   ]
  },
  {
   "cell_type": "markdown",
   "metadata": {},
   "source": [
    "### Ejercicio 2. \n",
    "Implementar un programa que dada una matriz $A ∈ R^{n×n}$ devuelva las dos matrices L y U de la descomposicion A = LU. No es necesario implementar pivoteo. En caso de que aparezca un 0 en la diagonal en algun paso del algoritmo, imprimir un mensaje de error y devolver las matrices In y A."
   ]
  },
  {
   "cell_type": "code",
   "execution_count": 118,
   "metadata": {},
   "outputs": [],
   "source": [
    "def descomposicionLU(A):\n",
    "    \n",
    "    fils=np.shape(A)[0]\n",
    "    cols=np.shape(A)[1]\n",
    "    \n",
    "    #Inicializo L y U, para luego reescribirlas\n",
    "    L=np.eye(cols)  \n",
    "    U=np.copy(A)\n",
    "  \n",
    "    for j in range(cols):\n",
    "    \n",
    "        if(A[j,j]!=0):\n",
    "            for i in range(j+1,fils):\n",
    "                L[i,j]=(U[i,j]/U[j,j])\n",
    "                U[i,:]=U[i,:]+(-U[i,j]/U[j,j])*U[j,:]    \n",
    "    \n",
    "        else:\n",
    "            print('Error') \n",
    "            return [np.eye(fils), A] \n",
    "            break\n",
    "  \n",
    "    return [L, U]"
   ]
  },
  {
   "cell_type": "markdown",
   "metadata": {},
   "source": [
    "Tomamos $A$ y $B \\in R^{4x4} $, $A$ admite descomposicion LU, y $B$ no la admite"
   ]
  },
  {
   "cell_type": "code",
   "execution_count": 119,
   "metadata": {
    "scrolled": true
   },
   "outputs": [
    {
     "data": {
      "text/plain": [
       "[array([[ 1. ,  0. ,  0. ,  0. ],\n",
       "        [-1.5,  1. ,  0. ,  0. ],\n",
       "        [ 2. ,  1. ,  1. ,  0. ],\n",
       "        [ 0.5,  0. ,  0. ,  1. ]]),\n",
       " array([[ 2,  4,  0,  0],\n",
       "        [ 0, 10,  5,  0],\n",
       "        [ 0,  0,  1,  8],\n",
       "        [ 0,  0,  0,  7]])]"
      ]
     },
     "execution_count": 119,
     "metadata": {},
     "output_type": "execute_result"
    }
   ],
   "source": [
    "A=np.array([[2,4,0,0],[-3,4,5,0],[4,18,6,8],[1,2,0,7]])\n",
    "descomposicionLU(A)"
   ]
  },
  {
   "cell_type": "code",
   "execution_count": 120,
   "metadata": {},
   "outputs": [
    {
     "name": "stdout",
     "output_type": "stream",
     "text": [
      "Error\n"
     ]
    },
    {
     "data": {
      "text/plain": [
       "[array([[1., 0., 0., 0.],\n",
       "        [0., 1., 0., 0.],\n",
       "        [0., 0., 1., 0.],\n",
       "        [0., 0., 0., 1.]]),\n",
       " array([[ 1, -1,  0,  1],\n",
       "        [-1,  0, -2,  0],\n",
       "        [ 0,  1,  1, -1],\n",
       "        [ 3,  1,  2, -1]])]"
      ]
     },
     "execution_count": 120,
     "metadata": {},
     "output_type": "execute_result"
    }
   ],
   "source": [
    "B=np.array([[1,-1,0,1],[-1,0,-2,0],[0,1,1,-1],[3,1,2,-1]])\n",
    "descomposicionLU(B)"
   ]
  },
  {
   "cell_type": "markdown",
   "metadata": {},
   "source": [
    "### Ejercicio 3.\n",
    "Implementar las funciones del Ejercicio 1 de la Practica 3 para resolver sistemas de\n",
    "ecuaciones $Ly = b$ y $Ux = y$ suponiendo que las matrices $L$ y $U$ son triangulares inferior y superior\n",
    "respectivamente y no tienen 0’s en la diagonal."
   ]
  },
  {
   "cell_type": "code",
   "execution_count": 121,
   "metadata": {},
   "outputs": [],
   "source": [
    "#Funcion auxiliar para sistemaUsandoLU\n",
    "def sumaCoeficientesU(U,x,i):\n",
    "    n=len(U)\n",
    "    suma=0\n",
    "    for j in range (i+1,n):\n",
    "        suma=suma + (U[i,j]*x[j])\n",
    "    return suma"
   ]
  },
  {
   "cell_type": "code",
   "execution_count": 122,
   "metadata": {},
   "outputs": [],
   "source": [
    "#Funcion auxiliar para sistemaUsandoLU\n",
    "def sistemaU (U,b):\n",
    "    longitud=len(U)\n",
    "    x=np.zeros(longitud)\n",
    "    x[longitud-1]=((b[longitud-1])/U[longitud-1,longitud-1])\n",
    "    for i in range (longitud - 2,-1,-1):\n",
    "        x[i]=(b[i]-sumaCoeficientesU(U,x,i))/U[i,i]\n",
    "    return x"
   ]
  },
  {
   "cell_type": "code",
   "execution_count": 123,
   "metadata": {},
   "outputs": [],
   "source": [
    "#Funcion auxiliar para sistemaUsandoLU\n",
    "def sumaCoeficientesL(L,y,i):\n",
    "    suma=0\n",
    "    for j in range (0,i):\n",
    "        suma=suma + L[i,j]*y[j]\n",
    "    return suma"
   ]
  },
  {
   "cell_type": "code",
   "execution_count": 124,
   "metadata": {},
   "outputs": [],
   "source": [
    "#Funcion auxiliar para sistemaUsandoLU\n",
    "def sistemaL(L,x):\n",
    "    longitud=len(L)\n",
    "    y=np.zeros(longitud)\n",
    "    y[0]=x[0]/L[0,0]\n",
    "    for i in range (1,longitud):\n",
    "        y[i]=(x[i]-sumaCoeficientesL(L,y,i))/L[i,i]\n",
    "    return y"
   ]
  },
  {
   "cell_type": "code",
   "execution_count": 125,
   "metadata": {},
   "outputs": [],
   "source": [
    "def sistemaUsandoLU(A,b):\n",
    "    L, U = descomposicionLU(A)\n",
    "    y=sistemaL(L,b)\n",
    "    x=sistemaU(U,y)\n",
    "    return x"
   ]
  },
  {
   "cell_type": "markdown",
   "metadata": {},
   "source": [
    "Tomamos $A\\in R^{4x4}$ y $b\\in R^4$, verificamos que funciona haciendo $Ax=b$"
   ]
  },
  {
   "cell_type": "code",
   "execution_count": 126,
   "metadata": {},
   "outputs": [
    {
     "name": "stdout",
     "output_type": "stream",
     "text": [
      "True\n"
     ]
    }
   ],
   "source": [
    "A=np.array([[2,4,0,0],[-3,4,5,0],[4,18,6,8],[1,2,0,7]])\n",
    "b=np.array([1,2,3,4])\n",
    "x=sistemaUsandoLU(A,b)\n",
    "\n",
    "print(np.all(np.isclose(A@x,b)))\n",
    "\n"
   ]
  },
  {
   "cell_type": "markdown",
   "metadata": {},
   "source": [
    "### Ejercicio 4.\n",
    "Probar las funciones implementadas tomando una matriz $A ∈ R^{10×10}$ de numeros aleatorios y un vector $b ∈ R^{10}$ de numeros aleatorios. Calcular la norma-1 del error $e = Ax̃ − b$ para x̃ la solucion calculada."
   ]
  },
  {
   "cell_type": "code",
   "execution_count": 127,
   "metadata": {},
   "outputs": [],
   "source": [
    "def error(A,b):\n",
    "    \n",
    "    x=sistemaUsandoLU(A,b)\n",
    "    \n",
    "    return [\"La norma 1 del error es: \", np.linalg.norm(A@x-b,ord=1)]"
   ]
  },
  {
   "cell_type": "code",
   "execution_count": 128,
   "metadata": {},
   "outputs": [
    {
     "data": {
      "text/plain": [
       "['La norma 1 del error es: ', 4.4603210014315664e-14]"
      ]
     },
     "execution_count": 128,
     "metadata": {},
     "output_type": "execute_result"
    }
   ],
   "source": [
    "A=np.random.rand(10,10)\n",
    "b=np.random.rand(10)\n",
    "\n",
    "error(A,b)"
   ]
  },
  {
   "cell_type": "markdown",
   "metadata": {},
   "source": [
    "### Ejercicio 5.\n",
    "Implementar un programa que reciba una matriz $A$ definida positiva (simetrica) y devuelva las matrices $L$ y $D$ de la descomposicion $A=LDL^T$."
   ]
  },
  {
   "cell_type": "code",
   "execution_count": 129,
   "metadata": {},
   "outputs": [],
   "source": [
    "def es_definida_pos(A):\n",
    "    \n",
    "    for k in range (len(A[0])) :\n",
    "        if (np.linalg.det(A[:k,:k])<=0): #A es definida positiva si todos sus menores son mayores a 0\n",
    "            return False\n",
    "        \n",
    "    return True"
   ]
  },
  {
   "cell_type": "code",
   "execution_count": 130,
   "metadata": {},
   "outputs": [],
   "source": [
    "#Funcion auxiliar para descomposicionLDLt\n",
    "def sumatoriaD(D,A,L,j):\n",
    "    suma=0\n",
    "    for k in range (j):\n",
    "        suma=suma + ((L[j,k])**2)*D[k,k]\n",
    "        \n",
    "    return suma"
   ]
  },
  {
   "cell_type": "code",
   "execution_count": 131,
   "metadata": {},
   "outputs": [],
   "source": [
    "#Funcion auxiliar para descomposicionLDLt\n",
    "def sumatoriaL(D,A,L,i,j):\n",
    "    suma=0\n",
    "    for k in range (j):\n",
    "        suma=suma + L[i,k]*L[j,k]*D[k,k]\n",
    "    return suma"
   ]
  },
  {
   "cell_type": "code",
   "execution_count": 132,
   "metadata": {},
   "outputs": [],
   "source": [
    "def descomposicionLDLt(A):\n",
    "    n=np.shape(A)[0]\n",
    "    if (es_definida_pos(A)):\n",
    "        if((A==A.T).all()):\n",
    "            D=np.zeros([n,n])\n",
    "            L=np.eye(n)\n",
    "            for j in range (n):\n",
    "                for i in range (j, n):\n",
    "                    D[j,j]=A[j,j]-sumatoriaD(D,A,L,j)\n",
    "                    L[i,j]=(1/D[j,j])*(A[i,j]-sumatoriaL(D,A,L,i,j))\n",
    "            return [L,D]\n",
    "        else:\n",
    "            print(\"La matriz no es simetrica\") #A es simetrica si A=A^t\n",
    "        \n",
    "    else: \n",
    "        print(\"La matriz debe ser definida positiva\")"
   ]
  },
  {
   "cell_type": "markdown",
   "metadata": {},
   "source": [
    "Tomamos $A ∈ R^{3x3}$ simetrica y definida positiva, $B ∈ R^{3x3}$ definida positiva y no simetrica, y $C ∈ R^{3x3}$ no definida positiva, para $A$ verificamos que $A=LDL^T$"
   ]
  },
  {
   "cell_type": "code",
   "execution_count": 133,
   "metadata": {
    "scrolled": true
   },
   "outputs": [
    {
     "data": {
      "text/plain": [
       "array([[9., 3., 1.],\n",
       "       [3., 5., 0.],\n",
       "       [1., 0., 3.]])"
      ]
     },
     "execution_count": 133,
     "metadata": {},
     "output_type": "execute_result"
    }
   ],
   "source": [
    "A=np.array([[9,3,1],[3,5,0],[1,0,3]])\n",
    "descomposicionLDLt(A)[0]@descomposicionLDLt(A)[1]@descomposicionLDLt(A)[0].T"
   ]
  },
  {
   "cell_type": "code",
   "execution_count": 134,
   "metadata": {},
   "outputs": [
    {
     "name": "stdout",
     "output_type": "stream",
     "text": [
      "La matriz no es simetrica\n"
     ]
    }
   ],
   "source": [
    "B=np.array([[4,1,1],[3,5,0],[1,0,3]])\n",
    "descomposicionLDLt(B)"
   ]
  },
  {
   "cell_type": "code",
   "execution_count": 135,
   "metadata": {},
   "outputs": [
    {
     "name": "stdout",
     "output_type": "stream",
     "text": [
      "La matriz debe ser definida positiva\n"
     ]
    }
   ],
   "source": [
    "B=np.array([[1,3,1],[3,5,0],[1,0,3]])\n",
    "descomposicionLDLt(B)"
   ]
  },
  {
   "cell_type": "markdown",
   "metadata": {},
   "source": [
    "### Ejercicio 6.\n",
    "Implementar una funcion que dada una matriz diagonal $D ∈ R^{n×n}$ y un vector $b ∈ R^n$, devuelva el vector $x$ solucion del sistema $Dx = b$.\n",
    "Alternativamente, el programa puede recibir el vector $d ∈ R^n$ con los valores de la diagonal de $D$, en lugar de la matriz $D$, lo que resulta en general mas eficiente."
   ]
  },
  {
   "cell_type": "code",
   "execution_count": 136,
   "metadata": {},
   "outputs": [],
   "source": [
    "def sistemaDiagonal(D,b):\n",
    "    n=np.shape(D)[0]\n",
    "    if(D.ndim > 1): #Si la dimension es mayor a 1, significa que D es una matriz\n",
    "        D=np.diag(D) #Convertimos D en un vector diagonal\n",
    "    x=np.zeros(n)\n",
    "    for i in range (n):\n",
    "        if (D[i]==0):\n",
    "            if (b[i]!=0):\n",
    "                return(\"El sistema no tiene solucion\") #No existe x tal que, 0*x=b con b distinto de 0\n",
    "            else: \n",
    "                x[i]=0\n",
    "        else:\n",
    "            x[i]=b[i]/D[i] \n",
    "    return x"
   ]
  },
  {
   "cell_type": "markdown",
   "metadata": {},
   "source": [
    "Tomamos $D\\in R^{3x3}$ diagonal, $d\\in R^{3}$ (vector con los valores de la diagonal de D), y $b\\in R^{3}$, vamos a verificar que para D y d el resultado es el mismo."
   ]
  },
  {
   "cell_type": "code",
   "execution_count": 137,
   "metadata": {
    "scrolled": true
   },
   "outputs": [
    {
     "data": {
      "text/plain": [
       "array([3.        , 4.5       , 1.33333333])"
      ]
     },
     "execution_count": 137,
     "metadata": {},
     "output_type": "execute_result"
    }
   ],
   "source": [
    "D=np.array([[1,0,0],[0,2,0],[0,0,3]])\n",
    "b=np.array([3,9,4])\n",
    "sistemaDiagonal(D,b)"
   ]
  },
  {
   "cell_type": "code",
   "execution_count": 138,
   "metadata": {},
   "outputs": [
    {
     "data": {
      "text/plain": [
       "array([3.        , 4.5       , 1.33333333])"
      ]
     },
     "execution_count": 138,
     "metadata": {},
     "output_type": "execute_result"
    }
   ],
   "source": [
    "d=np.array([1,2,3])\n",
    "b=np.array([3,9,4])\n",
    "sistemaDiagonal(d,b)"
   ]
  },
  {
   "cell_type": "markdown",
   "metadata": {},
   "source": [
    "### Ejercicio 8.\n",
    "Probar la implementacion realizada de la descomposicion LDLT para resolver un sistema $Qx = b$ tomando una matriz $A ∈ R^{10×10}$ de numeros aleatorios, $Q=A^TA$ y un vector $b ∈ R^{10}$ de numeros aleatorios. Calcular la norma-1 del error $e = Qx̃ -b$ para $x̃$ la solucion calculada."
   ]
  },
  {
   "cell_type": "markdown",
   "metadata": {},
   "source": [
    "Para resolver el sistema $LDL^Tx=b$, primero llamaremos $L^Tx=y$, luego tenemos que resolver el sistema $LDy=b$, llamamos $D*y=z$ y nos queda $L*z=b$, asi:\n",
    "    1) $Lz=b$ \n",
    "    2) $Dy=z$\n",
    "    3) $L^Tx=y$"
   ]
  },
  {
   "cell_type": "code",
   "execution_count": 139,
   "metadata": {},
   "outputs": [],
   "source": [
    "def sistemaLDLt(A,b):\n",
    "    \n",
    "    #Asignamos Q, L, D y L^T\n",
    "    Q=A.T@A\n",
    "    L,D = descomposicionLDLt(Q)\n",
    "    Lt= descomposicionLDLt(Q)[0].T\n",
    "    \n",
    "    #L*z=b\n",
    "    z=sistemaL(L,b)\n",
    "    \n",
    "    #D*y=z\n",
    "    y=sistemaDiagonal(D,z)\n",
    "    \n",
    "    #L^T*x=y\n",
    "    x=sistemaU(Lt, y)\n",
    "    \n",
    "    #Calculamos el error\n",
    "    error=Q@x-b\n",
    "    \n",
    "    return [Q,x,b,np.linalg.norm(error,ord=1)]"
   ]
  },
  {
   "cell_type": "markdown",
   "metadata": {},
   "source": [
    "Tomamos $A\\in R^{10x10}$ y $b\\in R^{10}$, con valores aleatorios entre 0 y 1, y calculamos el error"
   ]
  },
  {
   "cell_type": "code",
   "execution_count": 140,
   "metadata": {},
   "outputs": [
    {
     "name": "stdout",
     "output_type": "stream",
     "text": [
      "La norma 1 del error es:  4.551914400963142e-14\n"
     ]
    }
   ],
   "source": [
    "A=np.random.rand(10,10)\n",
    "b=np.random.rand(10)\n",
    "\n",
    "print(\"La norma 1 del error es: \", sistemaLDLt(A,b)[3])"
   ]
  },
  {
   "cell_type": "markdown",
   "metadata": {},
   "source": [
    "### Ejercicio 9.\n",
    "Calcular la descomposicion $LU$ de la matriz $Q$. ¿Que relacion encuentra entre ambas descomposiciones?.\n",
    "En los siguientes ejercicios, queremos verificar que en general la resolucion de sistemas dados por matrices definidas positivas son mas estables que los sistemas generales."
   ]
  },
  {
   "cell_type": "code",
   "execution_count": 141,
   "metadata": {},
   "outputs": [],
   "source": [
    "#Tomamos como A y b, la matriz y el vector aleatorio generado anteriormente\n",
    "Q=sistemaLDLt(A,b)[0]\n",
    "L,U=descomposicionLU(Q)\n",
    "\n",
    "Ld, D= descomposicionLDLt(Q)\n",
    "Lt=descomposicionLDLt(Q)[0].T"
   ]
  },
  {
   "cell_type": "markdown",
   "metadata": {},
   "source": [
    "Después de comparar L,U,Ld,D,Lt vemos que  $U=D*L^T$, con la diagonal de U y D iguales, y $L^T$ con unos en la diagonal, y mismos elementos que U por encima de la diagonal, verifiquemos esto en python:"
   ]
  },
  {
   "cell_type": "code",
   "execution_count": 142,
   "metadata": {},
   "outputs": [
    {
     "name": "stdout",
     "output_type": "stream",
     "text": [
      "True\n",
      "True\n"
     ]
    }
   ],
   "source": [
    "print(np.all(np.isclose(np.diag(D),np.diag(U))))\n",
    "print(np.all((np.isclose(U,D@L.T))))"
   ]
  },
  {
   "cell_type": "markdown",
   "metadata": {},
   "source": [
    "### Ejercicio 10.\n",
    "A partir de la matriz $Q$ construida en el ejercicio 8, construir una matriz $W$ intercambiando las columnas de $Q$ colocando las primeras 5 columnas de Q al final. Es decir $W_i = Q_{i+5}$ para 1 ≤ i ≤ 5 y $W_i = Q_{i−5}$ para 6 ≤ i ≤ 10 (donde Q_i y W_i son las columnas de Q y W respectivamente).\n",
    "Calcular la descomposicion $LU$ de $W$ y utilizarla para resolver el sistema $Wx = b$. Calcular la norma-1 del error $e = Wx̃− b$ para x̃ la solucion calculada.\n",
    "¿En cual de los dos casos obtuvo menor norma del error?\n"
   ]
  },
  {
   "cell_type": "code",
   "execution_count": 143,
   "metadata": {},
   "outputs": [],
   "source": [
    "def modulo(n):\n",
    "    if (n<0):\n",
    "        return -n\n",
    "    return n"
   ]
  },
  {
   "cell_type": "code",
   "execution_count": 144,
   "metadata": {},
   "outputs": [],
   "source": [
    "#Ya que, en este ej y en el 12, debemos intercambiar las columnas, creamos esta funcion que nos sirve para ambos.\n",
    "def intercambiarColumnasN(Q):\n",
    "    n=np.shape(Q)[0]\n",
    "    W=np.zeros([n,n])\n",
    "    for i in range (n):\n",
    "        W[i,:(n//2)]=Q[i,(n//2):]\n",
    "        W[i,(n//2):]=Q[i,:(n//2)]\n",
    "    return W"
   ]
  },
  {
   "cell_type": "code",
   "execution_count": 145,
   "metadata": {},
   "outputs": [],
   "source": [
    "def sistemaW(A,b):\n",
    "    \n",
    "    Q=sistemaLDLt(A,b)[0]\n",
    "    \n",
    "    #Intercambiamos las filas de Q\n",
    "    W=intercambiarColumnasN(Q)\n",
    "    \n",
    "    b=sistemaLDLt(A,b)[2]\n",
    "    \n",
    "    #W*x=b\n",
    "    x=sistemaUsandoLU(W,b)\n",
    "    \n",
    "    error=W@x-b\n",
    "    \n",
    "    print(\"La norma 1 del error de W*x=b es: \", np.linalg.norm(error,ord=1))\n",
    "    \n",
    "    #Veamos cual obtiene menor norma:\n",
    "    if (np.linalg.norm(error,ord=1)>sistemaLDLt(A,b)[3]):\n",
    "        print(\"El sistema LDLt tiene menor error\")\n",
    "    else:\n",
    "        print(\"El sistema LU tiene menor error\")\n",
    "    \n",
    "    diferenciaDeErrores=np.linalg.norm(error,ord=1)-sistemaLDLt(A,b)[3]\n",
    "    \n",
    "    print(\"La diferencia de los errores es: \", modulo(diferenciaDeErrores))"
   ]
  },
  {
   "cell_type": "code",
   "execution_count": 146,
   "metadata": {},
   "outputs": [
    {
     "name": "stdout",
     "output_type": "stream",
     "text": [
      "La norma 1 del error de W*x=b es:  4.2099657093785936e-13\n",
      "El sistema LDLt tiene menor error\n",
      "La diferencia de los errores es:  2.220446049250313e-15\n"
     ]
    }
   ],
   "source": [
    "A=np.random.rand(10,10)\n",
    "b=np.random.rand(10)\n",
    "sistemaW(A,b)"
   ]
  },
  {
   "cell_type": "markdown",
   "metadata": {},
   "source": [
    "Vemos que el error menor va variando, aunque la diferencia entre los errores no es significativa."
   ]
  },
  {
   "cell_type": "markdown",
   "metadata": {},
   "source": [
    "### Ejercicio 11.\n",
    "Calcular mediante comandos de Python la condicion-1 de las matrices $Q$ y $W$. ¿Que relacion observa? ¿Como puede justificarlo?\n",
    "Para obtener una conclusion mas confiable de los experimentos, repetimos el experimento 100 veces en matrices de mayor tamaño y calculamos la norma promedio de los errores."
   ]
  },
  {
   "cell_type": "code",
   "execution_count": 147,
   "metadata": {},
   "outputs": [],
   "source": [
    "def condicionDeMatrices(A,b):\n",
    "    \n",
    "    Q=sistemaLDLt(A,b)[0]\n",
    "    W=intercambiarColumnasN(Q)\n",
    "    \n",
    "    cond1Q=np.linalg.cond(Q,1)\n",
    "    cond1W=np.linalg.cond(W,1)\n",
    "    \n",
    "    return cond1Q,cond1W"
   ]
  },
  {
   "cell_type": "code",
   "execution_count": 148,
   "metadata": {},
   "outputs": [
    {
     "data": {
      "text/plain": [
       "(190381475270.22794, 190381585021.13458)"
      ]
     },
     "execution_count": 148,
     "metadata": {},
     "output_type": "execute_result"
    }
   ],
   "source": [
    "A=np.random.rand(10,10)\n",
    "b=np.random.rand(10)\n",
    "condicionDeMatrices(A,b)"
   ]
  },
  {
   "cell_type": "markdown",
   "metadata": {},
   "source": [
    "Como $cond_1(Q)$=$||Q||_1$*$||Q^-1||_1$, y sabemos que la condicion 1 es, en otras palabras, la columna que tiene la suma de modulos mayor, y como $W$ es una permutacion de columnas de $Q$, $||W||_1=||Q||_1$, y en la inversa ocurre algo similar, aunque no son iguales, son muy parecidas."
   ]
  },
  {
   "cell_type": "code",
   "execution_count": 149,
   "metadata": {},
   "outputs": [],
   "source": [
    "def experimento(n):\n",
    "    \n",
    "    for i in range(100):\n",
    "        A=np.random.rand(n,n)\n",
    "        Q=A.T@A\n",
    "        W=intercambiarColumnasN(Q)\n",
    "\n",
    "        sumaNormaPromedio=0\n",
    "\n",
    "        cond1Q=np.linalg.cond(Q,1)\n",
    "        cond1W=np.linalg.cond(W,1)\n",
    "\n",
    "#         for i in range (100):\n",
    "        error=modulo(cond1Q - cond1W)\n",
    "        sumaNormaPromedio=sumaNormaPromedio + error\n",
    "\n",
    "    promedio=sumaNormaPromedio/100\n",
    "    \n",
    "    return promedio\n",
    "        \n"
   ]
  },
  {
   "cell_type": "code",
   "execution_count": 150,
   "metadata": {},
   "outputs": [
    {
     "data": {
      "text/plain": [
       "2.4646706879138947e-06"
      ]
     },
     "execution_count": 150,
     "metadata": {},
     "output_type": "execute_result"
    }
   ],
   "source": [
    "experimento(100)"
   ]
  },
  {
   "cell_type": "markdown",
   "metadata": {},
   "source": [
    "En la funcion de experimento que nosotros hicimos solo se pueden ingresar numeros pares, igual nos alcanza para ver que mientras mayor sea el tamaño de $Q$, mayor va a ser el error, osea la diferencia entre $cond_1(Q)$ y $cond_1(W)$"
   ]
  },
  {
   "cell_type": "markdown",
   "metadata": {},
   "source": [
    "### Ejercicio 12."
   ]
  },
  {
   "cell_type": "code",
   "execution_count": 151,
   "metadata": {},
   "outputs": [],
   "source": [
    "def Ejercicio12(n):\n",
    "    \n",
    "    sumaQ=0\n",
    "    sumaW=0\n",
    "    \n",
    "    for i in range (100):\n",
    "        \n",
    "        A=np.random.rand(100,100)\n",
    "        b=np.random.rand(100)\n",
    "    \n",
    "        Q=A.T@A\n",
    "    \n",
    "        x_sistemaLDLt=sistemaLDLt(A,b)[1] #Calculamos sistemaLDLt de A ya que sistemaLDLt nos crea Q=A^T*A\n",
    "    \n",
    "        error_LDLt= sistemaLDLt(A,b)[3]\n",
    "        \n",
    "        sumaQ=sumaQ + error_LDLt\n",
    "    \n",
    "        W=intercambiarColumnasN(Q)\n",
    "    \n",
    "        x_sistemaLU=sistemaUsandoLU(W,b)\n",
    "    \n",
    "        error_LU=error(W,b)[1]\n",
    "        \n",
    "        sumaW=sumaW + error_LU\n",
    "        \n",
    "    promedioQ=sumaQ/100\n",
    "    \n",
    "    promedioW=sumaW/100\n",
    "    \n",
    "    return promedioQ, promedioW"
   ]
  },
  {
   "cell_type": "code",
   "execution_count": 152,
   "metadata": {},
   "outputs": [
    {
     "data": {
      "text/plain": [
       "(5.709459417357898e-08, 5.319426705280294e-06)"
      ]
     },
     "execution_count": 152,
     "metadata": {},
     "output_type": "execute_result"
    }
   ],
   "source": [
    "Ejercicio12(0)"
   ]
  },
  {
   "cell_type": "markdown",
   "metadata": {},
   "source": [
    "Vemos que nuestro sistema $LDL^T$ tiene menor error, lo cual es lo esperado ya que el algoritmo que utilizamos para la descomposición $LDL^T$ tiene menor inestabilidad numérica que el algoritmo que usamos para la descomposición $LU$. Esto sucede debido a que para hallar la descomposición $LU$ triangulamos la matriz, lo que genera una acumulación de errores mayor a la de simplemente reemplazar valores en la formula $LDL^T$."
   ]
  },
  {
   "cell_type": "code",
   "execution_count": null,
   "metadata": {},
   "outputs": [],
   "source": []
  }
 ],
 "metadata": {
  "kernelspec": {
   "display_name": "Python 3",
   "language": "python",
   "name": "python3"
  },
  "language_info": {
   "codemirror_mode": {
    "name": "ipython",
    "version": 3
   },
   "file_extension": ".py",
   "mimetype": "text/x-python",
   "name": "python",
   "nbconvert_exporter": "python",
   "pygments_lexer": "ipython3",
   "version": "3.8.5"
  }
 },
 "nbformat": 4,
 "nbformat_minor": 5
}
